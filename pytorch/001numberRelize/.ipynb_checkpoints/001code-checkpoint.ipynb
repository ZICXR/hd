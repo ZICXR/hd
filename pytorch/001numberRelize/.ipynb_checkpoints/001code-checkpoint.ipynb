{
 "cells": [
  {
   "cell_type": "code",
   "execution_count": 10,
   "id": "bedaab25-ca0a-4771-aa16-f2a240a1735f",
   "metadata": {
    "ExecutionIndicator": {
     "show": true
    },
    "execution": {
     "iopub.execute_input": "2024-07-21T02:50:03.863881Z",
     "iopub.status.busy": "2024-07-21T02:50:03.863572Z",
     "iopub.status.idle": "2024-07-21T02:50:03.866911Z",
     "shell.execute_reply": "2024-07-21T02:50:03.866426Z",
     "shell.execute_reply.started": "2024-07-21T02:50:03.863863Z"
    },
    "tags": []
   },
   "outputs": [
    {
     "name": "stdout",
     "output_type": "stream",
     "text": [
      "2.3.0+cu121\n"
     ]
    }
   ],
   "source": [
    "import torch\n",
    "import torchvision\n",
    "from torch.utils.data import DataLoader  # 加载数据时使用\n",
    "\n",
    "print(torch.__version__) # 查看版本"
   ]
  },
  {
   "cell_type": "code",
   "execution_count": 16,
   "id": "c2ac15d9-fbc7-47bd-94fe-cd057b42717a",
   "metadata": {
    "ExecutionIndicator": {
     "show": false
    },
    "execution": {
     "iopub.execute_input": "2024-07-21T04:28:20.955355Z",
     "iopub.status.busy": "2024-07-21T04:28:20.954687Z",
     "iopub.status.idle": "2024-07-21T04:28:20.994935Z",
     "shell.execute_reply": "2024-07-21T04:28:20.994476Z",
     "shell.execute_reply.started": "2024-07-21T04:28:20.955319Z"
    },
    "tags": []
   },
   "outputs": [
    {
     "data": {
      "image/jpeg": "[encoded data removed]",
      "image/png": "[encoded data removed]",
      "text/plain": [
       "<PIL.PngImagePlugin.PngImageFile image mode=L size=28x28>"
      ]
     },
     "metadata": {},
     "output_type": "display_data"
    }
   ],
   "source": [
    "from torch.utils.data import Dataset, DataLoader # 导入\n",
    "from PIL import Image # 读取图片\n",
    "import os\n",
    "\n",
    "class MyData(Dataset):\n",
    "    def __init__(self, root_dir, label_dir):\n",
    "        self.root_dir = root_dir\n",
    "        self.label_dir = label_dir\n",
    "        self.path = os.path.join(root_dir, label_dir)\n",
    "        self.img_path = os.listdir(self.path)\n",
    "\n",
    "    def __getitem__(self, idx):\n",
    "        img_name = self.img_path[idx]\n",
    "        img_item_path = os.path.join(self.root_dir, self.label_dir, img_name)\n",
    "        img = Image.open(img_item_path)\n",
    "        label = self.label_dir\n",
    "        return img, label\n",
    "\n",
    "    def __len__(self):\n",
    "        return len(self.img_path)\n",
    "\n",
    "train_data = MyData(\"./mnist_dataset/train\", \"0\")\n",
    "test_data = MyData(\"./mnist_dataset/test\", \"0\")\n",
    "for i in range(1, 10):\n",
    "        dataSetTrain = MyData(\"./mnist_dataset/train\", str(i))\n",
    "        dataSetTest = MyData(\"./mnist_dataset/test\", str(i))\n",
    "        train_data = train_data + dataSetTrain\n",
    "        test_data = test_data + dataSetTest\n",
    "\n",
    "img1, label1 = train_data[0]\n",
    "img1.show()\n",
    "print(label1)\n",
    "\n"
   ]
  },
  {
   "cell_type": "code",
   "execution_count": 6,
   "id": "970477ba-e591-4e16-94b6-c90695eec670",
   "metadata": {
    "execution": {
     "iopub.execute_input": "2024-07-21T02:47:22.664306Z",
     "iopub.status.busy": "2024-07-21T02:47:22.663956Z",
     "iopub.status.idle": "2024-07-21T02:47:22.719144Z",
     "shell.execute_reply": "2024-07-21T02:47:22.718571Z",
     "shell.execute_reply.started": "2024-07-21T02:47:22.664285Z"
    },
    "tags": []
   },
   "outputs": [],
   "source": [
    "n_epochs = 5 # 模型训练5轮\n",
    "log_interval = 30 #控制打印频率的，设n = 30*batch_size，即n张图后打印一次进度\n",
    "DEVICE = torch.device(\"cuda\" if torch.cuda.is_available() else \"cpu\") # 根据设备是否支持GPU来选择硬件 \n",
    "size = 32 # 对输入图片进行处理，拉伸为32*32的图片，这是为了复刻手写数字识别的神经网络，其输入为32*32的灰度图像\n",
    "learn_rate = 0.03 # 学习率\n",
    "momentum = 0.1  # 动量"
   ]
  },
  {
   "cell_type": "code",
   "execution_count": null,
   "id": "8a00ae6e-6688-4d5c-ba65-cf9de11907fb",
   "metadata": {
    "ExecutionIndicator": {
     "show": true
    },
    "tags": []
   },
   "outputs": [],
   "source": []
  }
 ],
 "metadata": {
  "kernelspec": {
   "display_name": "Python 3 (ipykernel)",
   "language": "python",
   "name": "python3"
  },
  "language_info": {
   "codemirror_mode": {
    "name": "ipython",
    "version": 3
   },
   "file_extension": ".py",
   "mimetype": "text/x-python",
   "name": "python",
   "nbconvert_exporter": "python",
   "pygments_lexer": "ipython3",
   "version": "3.10.14"
  }
 },
 "nbformat": 4,
 "nbformat_minor": 5
}
