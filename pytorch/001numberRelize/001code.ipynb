{
 "cells": [
  {
   "cell_type": "code",
   "execution_count": 27,
   "id": "bedaab25-ca0a-4771-aa16-f2a240a1735f",
   "metadata": {
    "ExecutionIndicator": {
     "show": true
    },
    "execution": {
     "iopub.execute_input": "2024-07-21T04:49:01.426895Z",
     "iopub.status.busy": "2024-07-21T04:49:01.426586Z",
     "iopub.status.idle": "2024-07-21T04:49:01.430004Z",
     "shell.execute_reply": "2024-07-21T04:49:01.429499Z",
     "shell.execute_reply.started": "2024-07-21T04:49:01.426876Z"
    },
    "tags": []
   },
   "outputs": [
    {
     "name": "stdout",
     "output_type": "stream",
     "text": [
      "2.3.0+cu121\n"
     ]
    }
   ],
   "source": [
    "import torch\n",
    "import torchvision\n",
    "from torch.utils.data import DataLoader  # 加载数据时使用\n",
    "\n",
    "print(torch.__version__) # 查看版本"
   ]
  },
  {
   "cell_type": "code",
   "execution_count": 28,
   "id": "c2ac15d9-fbc7-47bd-94fe-cd057b42717a",
   "metadata": {
    "ExecutionIndicator": {
     "show": true
    },
    "execution": {
     "iopub.execute_input": "2024-07-21T04:49:03.531684Z",
     "iopub.status.busy": "2024-07-21T04:49:03.531376Z",
     "iopub.status.idle": "2024-07-21T04:49:03.563267Z",
     "shell.execute_reply": "2024-07-21T04:49:03.562797Z",
     "shell.execute_reply.started": "2024-07-21T04:49:03.531666Z"
    },
    "tags": []
   },
   "outputs": [
    {
     "data": {
      "image/jpeg": "[encoded data removed]",
      "image/png": "[encoded data removed]",
      "text/plain": [
       "<PIL.PngImagePlugin.PngImageFile image mode=L size=28x28>"
      ]
     },
     "metadata": {},
     "output_type": "display_data"
    },
    {
     "name": "stdout",
     "output_type": "stream",
     "text": [
      "<class 'torch.utils.data.dataset.ConcatDataset'>\n"
     ]
    }
   ],
   "source": [
    "from torch.utils.data import Dataset, DataLoader # 导入\n",
    "from PIL import Image # 读取图片\n",
    "import os\n",
    "\n",
    "class MyData(Dataset):\n",
    "    def __init__(self, root_dir, label_dir):\n",
    "        self.root_dir = root_dir\n",
    "        self.label_dir = label_dir\n",
    "        self.path = os.path.join(root_dir, label_dir)\n",
    "        self.img_path = os.listdir(self.path)\n",
    "\n",
    "    def __getitem__(self, idx):\n",
    "        img_name = self.img_path[idx]\n",
    "        img_item_path = os.path.join(self.root_dir, self.label_dir, img_name)\n",
    "        img = Image.open(img_item_path)\n",
    "        label = self.label_dir\n",
    "        return img, label\n",
    "\n",
    "    def __len__(self):\n",
    "        return len(self.img_path)\n",
    "\n",
    "train_data = MyData(\"./mnist_dataset/train\", \"0\")\n",
    "test_data = MyData(\"./mnist_dataset/test\", \"0\")\n",
    "for i in range(1, 10):\n",
    "        dataSetTrain = MyData(\"./mnist_dataset/train\", str(i))\n",
    "        dataSetTest = MyData(\"./mnist_dataset/test\", str(i))\n",
    "        train_data = train_data + dataSetTrain\n",
    "        test_data = test_data + dataSetTest\n",
    "\n",
    "img1, label1 = train_data[0]\n",
    "img1.show()\n",
    "print(type(train_data))\n",
    "\n"
   ]
  },
  {
   "cell_type": "code",
   "execution_count": 40,
   "id": "970477ba-e591-4e16-94b6-c90695eec670",
   "metadata": {
    "ExecutionIndicator": {
     "show": true
    },
    "execution": {
     "iopub.execute_input": "2024-07-21T05:10:27.828303Z",
     "iopub.status.busy": "2024-07-21T05:10:27.827595Z",
     "iopub.status.idle": "2024-07-21T05:10:27.834529Z",
     "shell.execute_reply": "2024-07-21T05:10:27.834002Z",
     "shell.execute_reply.started": "2024-07-21T05:10:27.828267Z"
    },
    "tags": []
   },
   "outputs": [
    {
     "data": {
      "text/plain": [
       "<torch._C.Generator at 0x7fad5cf9a270>"
      ]
     },
     "execution_count": 40,
     "metadata": {},
     "output_type": "execute_result"
    }
   ],
   "source": [
    "n_epochs = 5 # 模型训练5轮\n",
    "log_interval = 30 #控制打印频率的，设n = 30*batch_size，即n张图后打印一次进度\n",
    "DEVICE = torch.device(\"cuda\" if torch.cuda.is_available() else \"cpu\") # 根据设备是否支持GPU来选择硬件 \n",
    "size = 32 # 对输入图片进行处理，拉伸为32*32的图片，这是为了复刻手写数字识别的神经网络，其输入为32*32的灰度图像\n",
    "learning_rate = 0.03 # 学习率\n",
    "momentum = 0.1  # 动量\n",
    "\n",
    "batch_size_train = 64\n",
    "batch_size_test = 1000\n",
    "log_interval = 10\n",
    "random_seed = 1\n",
    "torch.manual_seed(random_seed)"
   ]
  },
  {
   "cell_type": "code",
   "execution_count": 35,
   "id": "758befe9-59fd-4f0e-bdad-6e5b5af239c2",
   "metadata": {
    "ExecutionIndicator": {
     "show": true
    },
    "execution": {
     "iopub.execute_input": "2024-07-21T04:53:42.903717Z",
     "iopub.status.busy": "2024-07-21T04:53:42.903286Z",
     "iopub.status.idle": "2024-07-21T04:55:12.797040Z",
     "shell.execute_reply": "2024-07-21T04:55:12.796540Z",
     "shell.execute_reply.started": "2024-07-21T04:53:42.903698Z"
    },
    "tags": []
   },
   "outputs": [
    {
     "name": "stdout",
     "output_type": "stream",
     "text": [
      "Downloading http://yann.lecun.com/exdb/mnist/train-images-idx3-ubyte.gz\n",
      "Failed to download (trying next):\n",
      "HTTP Error 403: Forbidden\n",
      "\n",
      "Downloading https://ossci-datasets.s3.amazonaws.com/mnist/train-images-idx3-ubyte.gz\n",
      "Downloading https://ossci-datasets.s3.amazonaws.com/mnist/train-images-idx3-ubyte.gz to ./data/MNIST/raw/train-images-idx3-ubyte.gz\n"
     ]
    },
    {
     "name": "stderr",
     "output_type": "stream",
     "text": [
      "100%|██████████| 9912422/9912422 [01:09<00:00, 141901.15it/s]\n"
     ]
    },
    {
     "name": "stdout",
     "output_type": "stream",
     "text": [
      "Extracting ./data/MNIST/raw/train-images-idx3-ubyte.gz to ./data/MNIST/raw\n",
      "\n",
      "Downloading http://yann.lecun.com/exdb/mnist/train-labels-idx1-ubyte.gz\n",
      "Failed to download (trying next):\n",
      "HTTP Error 403: Forbidden\n",
      "\n",
      "Downloading https://ossci-datasets.s3.amazonaws.com/mnist/train-labels-idx1-ubyte.gz\n",
      "Downloading https://ossci-datasets.s3.amazonaws.com/mnist/train-labels-idx1-ubyte.gz to ./data/MNIST/raw/train-labels-idx1-ubyte.gz\n"
     ]
    },
    {
     "name": "stderr",
     "output_type": "stream",
     "text": [
      "100%|██████████| 28881/28881 [00:00<00:00, 63066.58it/s]\n"
     ]
    },
    {
     "name": "stdout",
     "output_type": "stream",
     "text": [
      "Extracting ./data/MNIST/raw/train-labels-idx1-ubyte.gz to ./data/MNIST/raw\n",
      "\n",
      "Downloading http://yann.lecun.com/exdb/mnist/t10k-images-idx3-ubyte.gz\n",
      "Failed to download (trying next):\n",
      "HTTP Error 403: Forbidden\n",
      "\n",
      "Downloading https://ossci-datasets.s3.amazonaws.com/mnist/t10k-images-idx3-ubyte.gz\n",
      "Downloading https://ossci-datasets.s3.amazonaws.com/mnist/t10k-images-idx3-ubyte.gz to ./data/MNIST/raw/t10k-images-idx3-ubyte.gz\n"
     ]
    },
    {
     "name": "stderr",
     "output_type": "stream",
     "text": [
      "100%|██████████| 1648877/1648877 [00:06<00:00, 245012.30it/s]\n"
     ]
    },
    {
     "name": "stdout",
     "output_type": "stream",
     "text": [
      "Extracting ./data/MNIST/raw/t10k-images-idx3-ubyte.gz to ./data/MNIST/raw\n",
      "\n",
      "Downloading http://yann.lecun.com/exdb/mnist/t10k-labels-idx1-ubyte.gz\n",
      "Failed to download (trying next):\n",
      "HTTP Error 403: Forbidden\n",
      "\n",
      "Downloading https://ossci-datasets.s3.amazonaws.com/mnist/t10k-labels-idx1-ubyte.gz\n",
      "Downloading https://ossci-datasets.s3.amazonaws.com/mnist/t10k-labels-idx1-ubyte.gz to ./data/MNIST/raw/t10k-labels-idx1-ubyte.gz\n"
     ]
    },
    {
     "name": "stderr",
     "output_type": "stream",
     "text": [
      "100%|██████████| 4542/4542 [00:00<00:00, 11774121.61it/s]"
     ]
    },
    {
     "name": "stdout",
     "output_type": "stream",
     "text": [
      "Extracting ./data/MNIST/raw/t10k-labels-idx1-ubyte.gz to ./data/MNIST/raw\n",
      "\n"
     ]
    },
    {
     "name": "stderr",
     "output_type": "stream",
     "text": [
      "\n"
     ]
    }
   ],
   "source": [
    "from torch.utils.data import Dataset, DataLoader # 导入\n",
    "from PIL import Image # 读取图片\n",
    "import os\n",
    "\n",
    "\n",
    "train_loader = torch.utils.data.DataLoader(\n",
    "    torchvision.datasets.MNIST('./data/', train=True, download=True,\n",
    "                               transform=torchvision.transforms.Compose([\n",
    "                                   torchvision.transforms.ToTensor(),\n",
    "                                   torchvision.transforms.Normalize(\n",
    "                                       (0.1307,), (0.3081,))\n",
    "                               ])),\n",
    "    batch_size=batch_size_train, shuffle=True)\n",
    "test_loader = torch.utils.data.DataLoader(\n",
    "    torchvision.datasets.MNIST('./data/', train=False, download=True,\n",
    "                               transform=torchvision.transforms.Compose([\n",
    "                                   torchvision.transforms.ToTensor(),\n",
    "                                   torchvision.transforms.Normalize(\n",
    "                                       (0.1307,), (0.3081,))\n",
    "                               ])),\n",
    "    batch_size=batch_size_test, shuffle=True)"
   ]
  },
  {
   "cell_type": "code",
   "execution_count": 36,
   "id": "8a00ae6e-6688-4d5c-ba65-cf9de11907fb",
   "metadata": {
    "ExecutionIndicator": {
     "show": true
    },
    "execution": {
     "iopub.execute_input": "2024-07-21T04:57:52.139548Z",
     "iopub.status.busy": "2024-07-21T04:57:52.139242Z",
     "iopub.status.idle": "2024-07-21T04:57:52.301328Z",
     "shell.execute_reply": "2024-07-21T04:57:52.300815Z",
     "shell.execute_reply.started": "2024-07-21T04:57:52.139531Z"
    },
    "tags": []
   },
   "outputs": [
    {
     "name": "stdout",
     "output_type": "stream",
     "text": [
      "tensor([3, 9, 4, 9, 9, 0, 8, 3, 1, 2, 3, 9, 1, 3, 6, 6, 4, 4, 9, 7, 3, 7, 6, 3,\n",
      "        4, 8, 4, 6, 8, 6, 1, 1, 1, 1, 0, 0, 1, 8, 4, 0, 1, 2, 7, 9, 3, 2, 3, 8,\n",
      "        3, 2, 0, 4, 6, 6, 5, 5, 3, 0, 3, 7, 2, 4, 1, 6, 7, 5, 4, 1, 0, 8, 5, 9,\n",
      "        0, 9, 6, 1, 8, 0, 9, 3, 5, 7, 8, 5, 6, 4, 2, 2, 2, 1, 8, 4, 4, 2, 1, 5,\n",
      "        9, 3, 7, 0, 4, 1, 7, 2, 2, 6, 5, 1, 2, 6, 1, 3, 1, 2, 7, 4, 1, 3, 2, 9,\n",
      "        3, 7, 2, 7, 4, 7, 0, 0, 9, 0, 9, 5, 1, 6, 9, 8, 1, 4, 6, 7, 5, 5, 6, 4,\n",
      "        5, 4, 0, 7, 4, 1, 3, 8, 2, 6, 2, 2, 8, 4, 1, 9, 6, 7, 5, 0, 7, 4, 6, 2,\n",
      "        6, 8, 7, 9, 8, 0, 7, 4, 2, 4, 9, 0, 4, 6, 5, 6, 6, 4, 4, 8, 3, 8, 0, 9,\n",
      "        5, 6, 3, 3, 8, 4, 4, 6, 7, 8, 5, 3, 4, 3, 3, 3, 3, 1, 8, 8, 9, 1, 0, 1,\n",
      "        4, 1, 0, 2, 0, 6, 5, 1, 5, 8, 8, 1, 3, 9, 4, 5, 9, 2, 5, 6, 5, 8, 2, 7,\n",
      "        4, 1, 6, 8, 7, 9, 3, 3, 4, 4, 5, 4, 9, 8, 2, 9, 1, 6, 7, 1, 0, 5, 1, 9,\n",
      "        2, 1, 5, 2, 7, 9, 0, 0, 6, 0, 8, 7, 2, 6, 1, 7, 6, 1, 2, 1, 6, 3, 1, 4,\n",
      "        1, 7, 5, 9, 3, 8, 6, 3, 8, 7, 4, 2, 3, 2, 4, 3, 5, 1, 2, 4, 0, 9, 4, 0,\n",
      "        5, 0, 7, 3, 3, 1, 8, 4, 1, 2, 2, 6, 0, 2, 1, 6, 3, 6, 2, 1, 7, 3, 9, 9,\n",
      "        0, 7, 6, 6, 8, 0, 1, 1, 9, 9, 6, 9, 4, 7, 8, 7, 8, 5, 3, 2, 4, 4, 3, 3,\n",
      "        1, 9, 5, 3, 1, 8, 4, 7, 6, 0, 5, 9, 7, 5, 4, 0, 3, 6, 0, 0, 5, 9, 7, 4,\n",
      "        7, 7, 3, 3, 8, 0, 5, 8, 6, 3, 4, 9, 6, 2, 2, 9, 3, 9, 4, 3, 7, 8, 0, 3,\n",
      "        7, 5, 1, 7, 0, 1, 7, 1, 6, 8, 9, 0, 2, 0, 0, 2, 8, 5, 6, 2, 1, 6, 4, 2,\n",
      "        1, 0, 7, 8, 7, 9, 8, 3, 1, 5, 2, 5, 0, 3, 8, 4, 1, 8, 0, 2, 4, 4, 0, 0,\n",
      "        4, 2, 8, 7, 5, 8, 5, 3, 7, 3, 3, 3, 1, 2, 4, 5, 9, 8, 2, 7, 6, 8, 6, 1,\n",
      "        3, 4, 0, 3, 7, 0, 3, 2, 9, 6, 2, 1, 7, 8, 1, 6, 9, 8, 6, 8, 7, 0, 5, 2,\n",
      "        5, 4, 4, 8, 6, 6, 8, 6, 7, 0, 9, 4, 4, 9, 7, 5, 7, 5, 9, 0, 8, 3, 9, 8,\n",
      "        1, 3, 3, 1, 0, 0, 1, 2, 1, 7, 0, 7, 0, 9, 8, 3, 2, 2, 0, 3, 0, 3, 0, 3,\n",
      "        6, 1, 5, 8, 8, 7, 4, 5, 2, 6, 7, 8, 4, 8, 3, 9, 2, 6, 8, 7, 2, 3, 0, 4,\n",
      "        9, 7, 7, 5, 0, 3, 6, 2, 9, 5, 9, 3, 7, 3, 6, 0, 9, 6, 5, 1, 6, 3, 9, 0,\n",
      "        9, 8, 4, 1, 6, 4, 1, 9, 1, 4, 6, 9, 4, 4, 7, 2, 3, 5, 9, 9, 2, 3, 0, 9,\n",
      "        9, 0, 0, 2, 4, 5, 6, 4, 7, 9, 0, 9, 0, 8, 3, 3, 1, 6, 0, 8, 3, 9, 8, 0,\n",
      "        3, 9, 7, 4, 8, 0, 9, 9, 7, 4, 9, 0, 1, 9, 0, 3, 3, 6, 8, 2, 6, 0, 0, 8,\n",
      "        8, 7, 9, 7, 7, 6, 1, 6, 0, 1, 9, 9, 5, 6, 9, 6, 2, 2, 1, 1, 6, 0, 7, 8,\n",
      "        4, 2, 4, 7, 0, 8, 9, 5, 9, 6, 9, 1, 2, 2, 8, 1, 3, 6, 2, 0, 5, 1, 1, 6,\n",
      "        8, 7, 0, 6, 2, 5, 6, 1, 9, 8, 6, 8, 5, 1, 7, 3, 2, 0, 9, 2, 2, 5, 5, 3,\n",
      "        8, 1, 4, 9, 7, 7, 1, 8, 2, 8, 1, 1, 7, 4, 1, 6, 9, 2, 0, 3, 4, 2, 0, 5,\n",
      "        7, 5, 7, 2, 5, 6, 8, 2, 6, 7, 3, 1, 6, 2, 4, 2, 0, 2, 5, 4, 1, 1, 5, 7,\n",
      "        4, 5, 2, 0, 8, 0, 4, 7, 3, 8, 8, 2, 3, 2, 6, 5, 1, 0, 4, 1, 3, 9, 0, 2,\n",
      "        8, 9, 1, 2, 0, 8, 7, 4, 4, 0, 7, 1, 0, 8, 5, 3, 3, 3, 4, 0, 7, 4, 4, 5,\n",
      "        0, 2, 2, 7, 8, 1, 2, 8, 0, 3, 5, 4, 6, 7, 9, 0, 0, 7, 3, 9, 4, 9, 5, 1,\n",
      "        4, 4, 9, 8, 7, 3, 9, 0, 8, 7, 0, 8, 4, 5, 8, 1, 7, 4, 2, 1, 1, 5, 1, 1,\n",
      "        5, 5, 6, 4, 3, 7, 3, 3, 3, 0, 4, 7, 9, 0, 3, 9, 8, 0, 7, 8, 7, 0, 0, 3,\n",
      "        7, 7, 6, 8, 8, 9, 8, 0, 9, 4, 9, 3, 8, 6, 8, 2, 0, 4, 8, 4, 4, 4, 6, 8,\n",
      "        3, 6, 3, 5, 1, 9, 5, 4, 3, 8, 3, 1, 2, 3, 1, 1, 9, 9, 5, 5, 0, 4, 1, 6,\n",
      "        9, 4, 8, 6, 8, 1, 7, 2, 6, 9, 8, 2, 7, 2, 2, 4, 8, 9, 3, 6, 2, 2, 7, 8,\n",
      "        5, 7, 2, 0, 0, 2, 3, 1, 1, 5, 8, 5, 3, 9, 7, 6])\n",
      "torch.Size([1000, 1, 28, 28])\n"
     ]
    }
   ],
   "source": [
    "examples = enumerate(test_loader)\n",
    "batch_idx, (example_data, example_targets) = next(examples)\n",
    "print(example_targets)\n",
    "print(example_data.shape)"
   ]
  },
  {
   "cell_type": "code",
   "execution_count": null,
   "id": "af929d58-8982-42b6-a6a0-ea24ddc77302",
   "metadata": {
    "tags": []
   },
   "outputs": [],
   "source": [
    "import matplotlib.pyplot as plt\n",
    "fig = plt.figure()\n",
    "for i in range(6):\n",
    "    plt.subplot(2,3,i+1)\n",
    "    plt.tight_layout()\n",
    "    plt.imshow(example_data[i][0], cmap='gray', interpolation='none')\n",
    "    plt.title(\"Ground Truth: {}\".format(example_targets[i]))\n",
    "    plt.xticks([])\n",
    "    plt.yticks([])\n",
    "plt.show()"
   ]
  },
  {
   "cell_type": "code",
   "execution_count": 38,
   "id": "89da5f33-f391-4af8-bc05-573b8b387905",
   "metadata": {
    "execution": {
     "iopub.execute_input": "2024-07-21T05:06:31.770497Z",
     "iopub.status.busy": "2024-07-21T05:06:31.770179Z",
     "iopub.status.idle": "2024-07-21T05:06:31.775326Z",
     "shell.execute_reply": "2024-07-21T05:06:31.774819Z",
     "shell.execute_reply.started": "2024-07-21T05:06:31.770477Z"
    },
    "tags": []
   },
   "outputs": [],
   "source": [
    "import torch.nn as nn\n",
    "import torch.nn.functional as F\n",
    "import torch.optim as optim\n",
    " \n",
    "class Net(nn.Module):\n",
    "    def __init__(self):\n",
    "        super(Net, self).__init__()\n",
    "        self.conv1 = nn.Conv2d(1, 10, kernel_size=5)\n",
    "        self.conv2 = nn.Conv2d(10, 20, kernel_size=5)\n",
    "        self.conv2_drop = nn.Dropout2d()\n",
    "        self.fc1 = nn.Linear(320, 50)\n",
    "        self.fc2 = nn.Linear(50, 10)\n",
    "    def forward(self, x):\n",
    "        x = F.relu(F.max_pool2d(self.conv1(x), 2))\n",
    "        x = F.relu(F.max_pool2d(self.conv2_drop(self.conv2(x)), 2))\n",
    "        x = x.view(-1, 320)\n",
    "        x = F.relu(self.fc1(x))\n",
    "        x = F.dropout(x, training=self.training)\n",
    "        x = self.fc2(x)\n",
    "        return F.log_softmax(x)"
   ]
  },
  {
   "cell_type": "code",
   "execution_count": 41,
   "id": "2c21c0b0-ba36-4bd7-809e-0f8ee24e5174",
   "metadata": {
    "execution": {
     "iopub.execute_input": "2024-07-21T05:10:31.871779Z",
     "iopub.status.busy": "2024-07-21T05:10:31.871472Z",
     "iopub.status.idle": "2024-07-21T05:10:31.875390Z",
     "shell.execute_reply": "2024-07-21T05:10:31.874970Z",
     "shell.execute_reply.started": "2024-07-21T05:10:31.871761Z"
    },
    "tags": []
   },
   "outputs": [],
   "source": [
    "network = Net()\n",
    "optimizer = optim.SGD(network.parameters(), lr=learning_rate, momentum=momentum)"
   ]
  },
  {
   "cell_type": "code",
   "execution_count": null,
   "id": "5ed457ef-b3e0-46cb-a034-f824b532f4a9",
   "metadata": {
    "ExecutionIndicator": {
     "show": true
    },
    "tags": []
   },
   "outputs": [],
   "source": [
    "train_losses = []\n",
    "train_counter = []\n",
    "test_losses = []\n",
    "test_counter = [i*len(train_loader.dataset) for i in range(n_epochs + 1)]\n",
    "def train(epoch):\n",
    "    network.train()\n",
    "    for batch_idx, (data, target) in enumerate(train_loader):\n",
    "        optimizer.zero_grad()\n",
    "        output = network(data)\n",
    "        loss = F.nll_loss(output, target)\n",
    "        loss.backward()\n",
    "        optimizer.step()\n",
    "        if batch_idx % log_interval == 0:\n",
    "            print('Train Epoch: {} [{}/{} ({:.0f}%)]\\tLoss: {:.6f}'.format(\n",
    "                epoch, batch_idx * len(data), len(train_loader.dataset),\n",
    "                       100. * batch_idx / len(train_loader), loss.item()))\n",
    "            train_losses.append(loss.item())\n",
    "            train_counter.append(\n",
    "                (batch_idx * 64) + ((epoch - 1) * len(train_loader.dataset)))\n",
    "            torch.save(network.state_dict(), './model.pth')\n",
    "            torch.save(optimizer.state_dict(), './optimizer.pth')\n",
    " \n",
    "train(1)\n",
    "def test():\n",
    "    network.eval()\n",
    "    test_loss = 0\n",
    "    correct = 0\n",
    "    with torch.no_grad():\n",
    "        for data, target in test_loader:\n",
    "            output = network(data)\n",
    "            test_loss += F.nll_loss(output, target, size_average=False).item()\n",
    "            pred = output.data.max(1, keepdim=True)[1]\n",
    "            correct += pred.eq(target.data.view_as(pred)).sum()\n",
    "    test_loss /= len(test_loader.dataset)\n",
    "    test_losses.append(test_loss)\n",
    "    print('\\nTest set: Avg. loss: {:.4f}, Accuracy: {}/{} ({:.0f}%)\\n'.format(\n",
    "        test_loss, correct, len(test_loader.dataset),\n",
    "        100. * correct / len(test_loader.dataset)))\n",
    " \n",
    "test()"
   ]
  },
  {
   "cell_type": "code",
   "execution_count": null,
   "id": "6d61200c-ad94-4e69-938a-ac56a655a45b",
   "metadata": {
    "tags": []
   },
   "outputs": [],
   "source": [
    "test()  # 不加这个，后面画图就会报错：x and y must be the same size\n",
    "for epoch in range(1, n_epochs + 1):\n",
    "    train(epoch)\n",
    "    test()"
   ]
  }
 ],
 "metadata": {
  "kernelspec": {
   "display_name": "Python 3 (ipykernel)",
   "language": "python",
   "name": "python3"
  },
  "language_info": {
   "codemirror_mode": {
    "name": "ipython",
    "version": 3
   },
   "file_extension": ".py",
   "mimetype": "text/x-python",
   "name": "python",
   "nbconvert_exporter": "python",
   "pygments_lexer": "ipython3",
   "version": "3.10.14"
  }
 },
 "nbformat": 4,
 "nbformat_minor": 5
}
